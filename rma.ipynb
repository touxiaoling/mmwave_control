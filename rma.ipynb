{
 "cells": [
  {
   "cell_type": "code",
   "execution_count": null,
   "metadata": {},
   "outputs": [],
   "source": [
    "from pathlib import Path\n",
    "from functools import partial\n",
    "\n",
    "import numpy as np\n",
    "from scipy import constants as C\n",
    "import ipywidgets as widgets\n",
    "\n",
    "from mmwave.rma import rma, echo_plot\n",
    "from mmwave.util import load_frame\n",
    "\n",
    "inslider_style = {\"description_width\": \"initial\", \"width\": \"50%\"}\n",
    "inslider_layout = widgets.Layout(width=\"50%\")\n",
    "\n",
    "IntSlider = partial(widgets.IntSlider, style=inslider_style, layout=inslider_layout)"
   ]
  },
  {
   "cell_type": "code",
   "execution_count": null,
   "metadata": {},
   "outputs": [],
   "source": [
    "output_dir = Path(\"/home/tomin/python/mmwave_postproc/cast_data/small_gun_241121\")\n",
    "\n",
    "frame_file, cfg = load_frame(output_dir)\n",
    "\n",
    "num_sample = cfg.mimo.profile.numAdcSamples\n",
    "adcStartTime = cfg.mimo.profile.adcStartTime  # us\n",
    "startFrequency = cfg.mimo.profile.startFrequency * 1e9\n",
    "K = cfg.mimo.profile.frequencySlope * 1e12  # Slope const (hz/s)\n",
    "Fs = cfg.mimo.profile.adcSamplingFrequency * 1e3  # Sampling rate (sps)\n",
    "\n",
    "F0 = startFrequency + adcStartTime * K * 1e-6 + num_sample // 2 / Fs * K  # Center frequency\n",
    "\n",
    "dx = cfg.bracket.profile.dx\n",
    "dy = cfg.bracket.profile.dy  # Sampling distance at x (horizontal) y (vertical) axis in mm\n",
    "row = cfg.bracket.profile.row\n",
    "col = cfg.bracket.profile.col\n",
    "\n",
    "c = C.c\n",
    "Ts = 1 / Fs  # Sampling period\n",
    "k = 2 * np.pi * F0 / c  # Wave number\n",
    "print(f\"k:{k}\")"
   ]
  },
  {
   "cell_type": "code",
   "execution_count": null,
   "metadata": {},
   "outputs": [],
   "source": [
    "tx_idx = IntSlider(value=0, min=0, max=11, step=1, description=\"发天线\")\n",
    "rx_idx = IntSlider(value=0, min=0, max=15, step=1, description=\"收天线\")\n",
    "ID_select = IntSlider(value=21, min=0, max=frame_file.shape[4] - 1, step=1, description=\"成像距离\")\n",
    "nFFTtime = num_sample  # Number of FFT points for Spatial-FFT\n",
    "tI = 183  # mm\n",
    "\n",
    "\n",
    "@widgets.interact(tx_idx=tx_idx, rx_idx=rx_idx, ID_select=ID_select)\n",
    "def rma_interact(tx_idx, rx_idx, ID_select):\n",
    "    R = c / 2 * (ID_select / (K * Ts * nFFTtime)) - tI / 1000\n",
    "    Echo = frame_file[rx_idx, tx_idx, :, :, :, 0] + 1j * frame_file[rx_idx, tx_idx, :, :, :, 1]\n",
    "    Sr: np.ndarray = np.fft.fft(Echo)\n",
    "    Sr = Sr[:, :, ID_select - 1]\n",
    "    Sr[Sr == 0] = 1e-10\n",
    "    # echo_plot(Sr, \"source\", dx, dy)\n",
    "\n",
    "    reconstructed_image = rma(Sr, dx, dy, R, k)\n",
    "    echo_plot(reconstructed_image, \"reconstructed_image\", dx, dy, rma=True)"
   ]
  }
 ],
 "metadata": {
  "language_info": {
   "name": "python"
  }
 },
 "nbformat": 4,
 "nbformat_minor": 2
}
