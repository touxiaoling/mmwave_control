{
 "cells": [
  {
   "cell_type": "code",
   "execution_count": null,
   "metadata": {},
   "outputs": [],
   "source": [
    "from pathlib import Path\n",
    "import numpy as np\n",
    "from scipy import constants as C\n",
    "from mmwave.rma import rma, echo_plot\n",
    "from mmwave.util import load_frame"
   ]
  },
  {
   "cell_type": "code",
   "execution_count": null,
   "metadata": {},
   "outputs": [],
   "source": [
    "output_dir = Path(\"/home/tomin/python/mmwave_postproc/outdoor_20241121_152633\")\n",
    "output_dir = Path(\"/home/tomin/python/mmwave_postproc/outdoor_20241121_143316\")\n",
    "\n",
    "frame_file, cfg = load_frame(output_dir)\n",
    "\n",
    "num_sample = cfg.mimo.profile.numAdcSamples\n",
    "adcStartTime = cfg.mimo.profile.adcStartTime  # us\n",
    "startFrequency = cfg.mimo.profile.startFrequency * 1e9\n",
    "K = cfg.mimo.profile.frequencySlope * 1e12  # Slope const (hz/s)\n",
    "Fs = cfg.mimo.profile.adcSamplingFrequency * 1e3  # Sampling rate (sps)\n",
    "\n",
    "F0 = startFrequency + adcStartTime * K * 1e-6 + num_sample // 2 / Fs * K  # Center frequency\n",
    "\n",
    "dx = cfg.bracket.profile.dx\n",
    "dy = cfg.bracket.profile.dy  # Sampling distance at x (horizontal) y (vertical) axis in mm\n",
    "row = cfg.bracket.profile.row\n",
    "col = cfg.bracket.profile.col\n",
    "\n",
    "c = C.c\n",
    "Ts = 1 / Fs  # Sampling period\n",
    "k = 2 * np.pi * F0 / c  # Wave number\n",
    "print(f\"k:{k}\")"
   ]
  },
  {
   "cell_type": "code",
   "execution_count": null,
   "metadata": {},
   "outputs": [],
   "source": [
    "tx_idx = 1\n",
    "rx_idx = 1\n",
    "ID_select = 21\n",
    "nFFTtime = num_sample  # Number of FFT points for Spatial-FFT\n",
    "tI = 183  # mm\n",
    "R = c / 2 * (ID_select / (K * Ts * nFFTtime)) - tI / 1000\n",
    "\n",
    "Echo = frame_file[:, :, tx_idx, rx_idx, :, 0] + 1j * frame_file[:, :, tx_idx, rx_idx, :, 1]\n",
    "Sr: np.ndarray = np.fft.fft(Echo)\n",
    "Sr = Sr[:, :, ID_select - 1]\n",
    "Sr[Sr == 0] = 1e-10\n",
    "echo_plot(Sr, \"source\", dx, dy)"
   ]
  },
  {
   "cell_type": "code",
   "execution_count": null,
   "metadata": {},
   "outputs": [],
   "source": [
    "reconstructed_image = rma(Sr, dx, dy, R, k)\n",
    "echo_plot(reconstructed_image, \"reconstructed_image\", dx, dy, rma=True)"
   ]
  }
 ],
 "metadata": {
  "language_info": {
   "name": "python"
  }
 },
 "nbformat": 4,
 "nbformat_minor": 2
}
