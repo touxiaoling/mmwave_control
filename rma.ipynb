{
 "cells": [
  {
   "cell_type": "code",
   "execution_count": null,
   "metadata": {},
   "outputs": [],
   "source": [
    "from pathlib import Path\n",
    "import tomllib\n",
    "import numpy as np\n",
    "from scipy import constants as C\n",
    "from mmwave.rma import rma, echo_plot\n",
    "from mmwave import schemas"
   ]
  },
  {
   "cell_type": "code",
   "execution_count": null,
   "metadata": {},
   "outputs": [],
   "source": [
    "output_dir = Path(\"/home/tomin/python/mmwave_postproc/outdoor_20241121_152633\")\n",
    "output_dir = Path(\"/home/tomin/python/mmwave_postproc/outdoor_20241121_143316\")\n",
    "\n",
    "frame_file_path = output_dir / \"all_mmw_array.npy\"\n",
    "frame_file: np.ndarray = np.load(frame_file_path, mmap_mode=\"r\")\n",
    "print(frame_file.shape)\n",
    "\n",
    "\n",
    "with (output_dir / \"config.toml\").open(\"rb\") as f:\n",
    "    cfg = tomllib.load(f)\n",
    "    cfg = schemas.MMWConfig.model_validate(cfg)\n",
    "\n",
    "num_sample = cfg.mimo.profile.numAdcSamples\n",
    "nFFTtime = num_sample  # Number of FFT points for Spatial-FFT\n",
    "adcStartTime = cfg.mimo.profile.adcStartTime  # us\n",
    "startFrequency = cfg.mimo.profile.startFrequency * 1e9\n",
    "K = cfg.mimo.profile.frequencySlope * 1e12  # Slope const (hz/s)\n",
    "Fs = cfg.mimo.profile.adcSamplingFrequency * 1e3  # Sampling rate (sps)\n",
    "\n",
    "F0 = startFrequency + adcStartTime * K * 1e-6 + num_sample // 2 / Fs * K  # Center frequency\n",
    "F0_min = startFrequency + adcStartTime * K * 1e-6\n",
    "F0_max = startFrequency + adcStartTime * K * 1e-6 + num_sample / Fs * K\n",
    "print(F0_min * 1e-9, F0 * 1e-9, F0_max * 1e-9, num_sample / Fs * K * 1e-9)\n",
    "\n",
    "dx = cfg.bracket.profile.dx\n",
    "dy = cfg.bracket.profile.dy  # Sampling distance at x (horizontal) y (vertical) axis in mm\n",
    "row = cfg.bracket.profile.row\n",
    "col = cfg.bracket.profile.col\n",
    "print(dx, dy, row, col)\n",
    "rw = dx * col / 1000\n",
    "rh = dy * row / 1000\n",
    "\n",
    "pic_positions = np.mgrid[0 : rh : 1j * 1001, 0 : rw : 1j * 501].transpose(1, 2, 0)\n",
    "\n",
    "h, w = pic_positions.shape[:2]\n",
    "print(rh, rw, h, w)\n",
    "\n",
    "c = C.c\n",
    "Ts = 1 / Fs  # Sampling period\n",
    "k = 2 * np.pi * F0 / c  # Wave number\n",
    "print(f\"k:{k}\")\n",
    "\n",
    "R_step = c / 2 / (K * Ts * num_sample)\n",
    "print(R_step * 1000)  # mm"
   ]
  },
  {
   "cell_type": "code",
   "execution_count": null,
   "metadata": {},
   "outputs": [],
   "source": [
    "tx_idx = 1\n",
    "rx_idx = 1\n",
    "ID_select = 21\n",
    "tI = 183  # mm\n",
    "R = c / 2 * (ID_select / (K * Ts * nFFTtime)) - tI / 1000\n",
    "\n",
    "Echo = frame_file[:, :, tx_idx, rx_idx, :, 0] + 1j * frame_file[:, :, tx_idx, rx_idx, :, 1]\n",
    "Sr: np.ndarray = np.fft.fft(Echo)\n",
    "Sr = Sr[:, :, ID_select - 1]\n",
    "Sr[Sr == 0] = 1e-10\n",
    "echo_plot(Sr, \"source\", dx, dy)"
   ]
  },
  {
   "cell_type": "code",
   "execution_count": null,
   "metadata": {},
   "outputs": [],
   "source": [
    "reconstructed_image = rma(Sr, dx, dy, R, k)\n",
    "echo_plot(reconstructed_image, \"reconstructed_image\", dx, dy, rma=True)"
   ]
  }
 ],
 "metadata": {
  "language_info": {
   "name": "python"
  }
 },
 "nbformat": 4,
 "nbformat_minor": 2
}
