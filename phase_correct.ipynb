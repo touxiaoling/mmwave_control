{
 "cells": [
  {
   "cell_type": "code",
   "execution_count": null,
   "metadata": {},
   "outputs": [],
   "source": [
    "from pathlib import Path\n",
    "import ipywidgets as widgets\n",
    "import numpy as np\n",
    "import matplotlib.pyplot as plt\n",
    "from mmwave.util import load_frame\n",
    "from mmwave.rma import echo_plot\n",
    "# %matplotlib ipympl"
   ]
  },
  {
   "cell_type": "code",
   "execution_count": null,
   "metadata": {},
   "outputs": [],
   "source": [
    "output_dir = Path(\"/home/tomin/python/mmwave_postproc/cast_data/small_corner_241121\")\n",
    "\n",
    "frame_file, cfg = load_frame(output_dir)\n",
    "print(frame_file.shape)\n",
    "\n",
    "pic_positions = np.mgrid[0 : 0.3 : 1j * 601, 0 : 0.4 : 1j * 801].transpose(1, 2, 0)\n",
    "\n",
    "dx = cfg.bracket.profile.dx\n",
    "dy = cfg.bracket.profile.dy\n",
    "h, w = pic_positions.shape[:2]"
   ]
  },
  {
   "cell_type": "code",
   "execution_count": null,
   "metadata": {},
   "outputs": [],
   "source": [
    "xw = [\n",
    "    [0, 0, 0, 15, 80, 80, 90, 80, 25, 30, 25, 25, 60, 50, 45, 35],  # 0\n",
    "    [25, 30, 25, 45, 105, 110, 120, 110, 60, 70, 60, 60, 105, 95, 90, 80],  # 1\n",
    "    [25, 25, 25, 45, 105, 110, 120, 110, 70, 80, 70, 70, 115, 110, 100, 100],  # 2\n",
    "    [-30, -25, -30, -10, 55, 65, 70, 65, 20, 35, 25, 30, 75, 65, 65, 55],  # 3\n",
    "    [-20, -20, -20, 0, 70, 80, 80, 80, 45, 60, 50, 60, 100, 95, 95, 85],  # 4\n",
    "    [-20, -20, -20, 0, 75, 80, 85, 85, 55, 70, 60, 65, 105, 105, 100, 95],  # 5\n",
    "    [-120, -120, -115, -95, -20, -10, 0, 0, -30, -15, -25, -28, 22, 18, 20, 5],  # 6\n",
    "    [-130, -130, -125, -105, -20, -10, -5, 0, -25, -12, -20, -20, 28, 30, 25, 17],  # 7\n",
    "    [-160, -155, -150, -130, -35, -25, -21, -12, -25, -12, -22, -18, 25, 28, 23, 13],  # 8\n",
    "    [-90, -90, -90, -75, -15, 0, 0, 0, -45, -25, -40, -35, 5, 0, 0, -15],  # 9\n",
    "    [-75, -75, -75, -55, 0, 10, 15, 15, -30, -15, -25, -15, 25, 20, 20, 10],  # 10\n",
    "    [-75, -75, -75, -60, 0, 5, 10, 10, -35, -20, -25, -20, 25, 20, 20, 15],  # 11\n",
    "]\n",
    "\n",
    "xw = np.asarray(xw) + 5\n",
    "xw = np.exp(1j * np.pi * xw / 180)"
   ]
  },
  {
   "cell_type": "code",
   "execution_count": null,
   "metadata": {},
   "outputs": [],
   "source": [
    "tx_idx = widgets.IntSlider(min=0, max=11, step=1, value=0)\n",
    "rx_idx = widgets.IntSlider(min=0, max=15, step=1, value=0)\n",
    "\n",
    "\n",
    "@widgets.interact(tx_idx=tx_idx, rx_idx=rx_idx)\n",
    "def f(tx_idx, rx_idx):\n",
    "    ID_select = 21\n",
    "    down_sample = 1\n",
    "    Echo = (frame_file[rx_idx, tx_idx, :, :, :, 0] + 1j * frame_file[rx_idx, tx_idx, :, :, :, 1])[::down_sample,]\n",
    "    Sr: np.ndarray = np.fft.fft(Echo)\n",
    "    Sr[Sr == 0] = 1e-10\n",
    "    Echo2 = Sr[:, :, ID_select - 1] * xw[tx_idx, rx_idx]\n",
    "    echo_plot(Echo2, \"10 down sample origange\", dx, dy)\n",
    "\n",
    "\n",
    "@widgets.interact(tx_idx=tx_idx, rx_idx=rx_idx)\n",
    "def f2(tx_idx, rx_idx):\n",
    "    ID_select = 21\n",
    "    down_sample = 1\n",
    "    Echo = (frame_file[rx_idx, tx_idx, :, :, :, 0] + 1j * frame_file[rx_idx, tx_idx, :, :, :, 1])[::down_sample,]\n",
    "    Sr: np.ndarray = np.fft.fft(Echo)\n",
    "    Sr[Sr == 0] = 1e-10\n",
    "    Echo2 = Sr[:, :, ID_select - 1] * xw[tx_idx, rx_idx]\n",
    "    mmw_line = Echo2[:, 245]\n",
    "    plt.figure(figsize=[15, 6])\n",
    "    # plt.plot(np.unwrap(np.angle(mmw_line, deg=True), period=360))\n",
    "    plt.plot(np.arcsin(np.imag(mmw_line / np.abs(mmw_line))) / np.pi * 180)\n",
    "    plt.grid()\n",
    "    # plt.ylim(-180, 180)"
   ]
  }
 ],
 "metadata": {
  "language_info": {
   "name": "python"
  }
 },
 "nbformat": 4,
 "nbformat_minor": 2
}
